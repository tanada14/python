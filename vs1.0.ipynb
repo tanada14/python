{
 "cells": [
  {
   "cell_type": "code",
   "execution_count": 17,
   "metadata": {},
   "outputs": [
    {
     "name": "stdout",
     "output_type": "stream",
     "text": [
      "time 754\n",
      "衝突しました\n",
      "搬送車番号 0 1\n",
      "衝突座標 16 2\n",
      "time 2499\n",
      "衝突しました\n",
      "搬送車番号 0 1\n",
      "衝突座標 16 21\n",
      "time 2500\n",
      "衝突しました\n",
      "搬送車番号 0 1\n",
      "衝突座標 16 22\n",
      "time 3140\n",
      "衝突しました\n",
      "搬送車番号 0 1\n",
      "衝突座標 14 2\n",
      "搬送車が移動中に終了しました\n",
      "搬送車が移動中に終了しました\n",
      "搬送車が移動中に終了しました\n",
      "42\n",
      "走行時間の総和 9410\n",
      "最終走行完了時間 3167\n"
     ]
    }
   ],
   "source": [
    "%run -i vs_record_potential.py"
   ]
  },
  {
   "cell_type": "code",
   "execution_count": 3,
   "metadata": {},
   "outputs": [
    {
     "name": "stdout",
     "output_type": "stream",
     "text": [
      "搬送車が移動中に終了しました\n",
      "搬送車が移動中に終了しました\n",
      "43\n",
      "走行時間の総和 9145\n",
      "最終走行完了時間 3129\n"
     ]
    }
   ],
   "source": [
    "#処理順序の整理，処理の関数化\n",
    "%run -i vs1.0.py"
   ]
  },
  {
   "cell_type": "code",
   "execution_count": 24,
   "metadata": {},
   "outputs": [
    {
     "name": "stdout",
     "output_type": "stream",
     "text": [
      "1 2\n",
      "2 3\n"
     ]
    }
   ],
   "source": [
    "#クラス内関数で，同クラス内別関数を呼び出した場合の動作確認\n",
    "class Class():\n",
    "    def __init__(self):\n",
    "        self.x = 1\n",
    "        self.y = 2\n",
    "    def function1(self):\n",
    "        print(self.x, self.y)\n",
    "        self.function2(self.x+1, self.y+1)\n",
    "    def function2(self, x, y):\n",
    "        print(x, y)\n",
    "        \n",
    "obj = Class()\n",
    "obj.function1()"
   ]
  },
  {
   "cell_type": "code",
   "execution_count": null,
   "metadata": {},
   "outputs": [],
   "source": []
  }
 ],
 "metadata": {
  "kernelspec": {
   "display_name": "Python 3",
   "language": "python",
   "name": "python3"
  },
  "language_info": {
   "codemirror_mode": {
    "name": "ipython",
    "version": 3
   },
   "file_extension": ".py",
   "mimetype": "text/x-python",
   "name": "python",
   "nbconvert_exporter": "python",
   "pygments_lexer": "ipython3",
   "version": "3.7.0"
  }
 },
 "nbformat": 4,
 "nbformat_minor": 2
}
