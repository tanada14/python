{
 "cells": [
  {
   "cell_type": "code",
   "execution_count": 6,
   "metadata": {},
   "outputs": [
    {
     "name": "stdout",
     "output_type": "stream",
     "text": [
      "[0, 1, 2, 3, 4, 5, 6, 7, 8, 9]\n",
      "6\n"
     ]
    }
   ],
   "source": [
    "import random\n",
    "\n",
    "print(list(range(10)))\n",
    "\n",
    "print(random.randrange(10))"
   ]
  },
  {
   "cell_type": "code",
   "execution_count": 16,
   "metadata": {},
   "outputs": [],
   "source": [
    "path_w = 'carrier_test4.txt'\n",
    "\n",
    "s = 'New file'\n",
    "\n",
    "with open(path_w, mode='w') as f:\n",
    "    f.write(s)\n",
    "    f.write(' ')\n",
    "    f.write('\\n')\n",
    "    f.write(s)\n",
    "    "
   ]
  },
  {
   "cell_type": "code",
   "execution_count": 23,
   "metadata": {},
   "outputs": [
    {
     "name": "stdout",
     "output_type": "stream",
     "text": [
      "carrier_sum 4\n",
      "26 1 0 \n",
      "47 0 1 \n",
      "68 0 1 \n",
      "76 0 1 \n"
     ]
    }
   ],
   "source": [
    "#搬送要求のファイルを出力する\n",
    "import random\n",
    "\n",
    "kumitate_sum = 2\n",
    "last_time = 100\n",
    "max_carrier = 10\n",
    "path_w = 'carrier_test4.txt'\n",
    "\n",
    "carrier_sum = random.randrange(3, max_carrier)\n",
    "print('carrier_sum', carrier_sum)\n",
    "\n",
    "\n",
    "with open(path_w, mode='w') as f:\n",
    "    tmp = -1\n",
    "    for count in range(carrier_sum):\n",
    "        time = random.randrange(tmp+1, last_time-carrier_sum+count)\n",
    "        tmp = time\n",
    "        print(time, end=\" \")\n",
    "        f.write(str(time))\n",
    "        f.write(' ')\n",
    "        \n",
    "        start = random.randrange(kumitate_sum)\n",
    "        print(start, end=\" \")\n",
    "        f.write(str(start))\n",
    "        f.write(' ')\n",
    "        \n",
    "        goal = random.randrange(kumitate_sum)\n",
    "        while(start == goal):\n",
    "            goal = random.randrange(kumitate_sum)\n",
    "        print(goal, end=\" \")\n",
    "        f.write(str(goal))\n",
    "        f.write(' ')\n",
    "        f.write('\\n')\n",
    "        print('')\n",
    "    \n",
    "    f.write(str(-1))\n",
    "    f.write(' ')\n",
    "    f.write(str(-1))\n",
    "    f.write(' ')\n",
    "    f.write(str(-1))\n",
    "    f.write(' ')\n",
    "    f.write('\\n')"
   ]
  },
  {
   "cell_type": "code",
   "execution_count": 17,
   "metadata": {},
   "outputs": [],
   "source": [
    "a = 1\n",
    "b = 2\n",
    "while(a == b):\n",
    "    print('a')"
   ]
  },
  {
   "cell_type": "code",
   "execution_count": 27,
   "metadata": {},
   "outputs": [
    {
     "name": "stdout",
     "output_type": "stream",
     "text": [
      "3\n"
     ]
    },
    {
     "ename": "IndexError",
     "evalue": "pop from an empty deque",
     "output_type": "error",
     "traceback": [
      "\u001b[1;31m---------------------------------------------------------------------------\u001b[0m",
      "\u001b[1;31mIndexError\u001b[0m                                Traceback (most recent call last)",
      "\u001b[1;32m<ipython-input-27-a596f5d9ba5d>\u001b[0m in \u001b[0;36m<module>\u001b[1;34m()\u001b[0m\n\u001b[0;32m      8\u001b[0m     \u001b[0mprint\u001b[0m\u001b[1;33m(\u001b[0m\u001b[0mq\u001b[0m\u001b[1;33m.\u001b[0m\u001b[0mpopleft\u001b[0m\u001b[1;33m(\u001b[0m\u001b[1;33m)\u001b[0m\u001b[1;33m)\u001b[0m\u001b[1;33m\u001b[0m\u001b[0m\n\u001b[0;32m      9\u001b[0m \u001b[1;33m\u001b[0m\u001b[0m\n\u001b[1;32m---> 10\u001b[1;33m \u001b[0mprint\u001b[0m\u001b[1;33m(\u001b[0m\u001b[0mq\u001b[0m\u001b[1;33m.\u001b[0m\u001b[0mpopleft\u001b[0m\u001b[1;33m(\u001b[0m\u001b[1;33m)\u001b[0m\u001b[1;33m)\u001b[0m\u001b[1;33m\u001b[0m\u001b[0m\n\u001b[0m",
      "\u001b[1;31mIndexError\u001b[0m: pop from an empty deque"
     ]
    }
   ],
   "source": [
    "from collections import deque\n",
    " \n",
    "q = deque([]) \n",
    "\n",
    "q.append(3)\n",
    " \n",
    "while len(q) > 0:\n",
    "    print(q.popleft())\n",
    "    \n",
    "print(q.popleft())"
   ]
  },
  {
   "cell_type": "code",
   "execution_count": 1,
   "metadata": {},
   "outputs": [
    {
     "name": "stdout",
     "output_type": "stream",
     "text": [
      "elapsed_time:0.15286493301391602[sec]\n"
     ]
    }
   ],
   "source": [
    "#ステップ数計算\n",
    "import time\n",
    "\n",
    "if __name__ == '__main__':\n",
    "    start = time.time()\n",
    "    sum = 0\n",
    "    for i in range(0,1000000):\n",
    "        sum = sum+i \n",
    "    elapsed_time = time.time() - start\n",
    "    print (\"elapsed_time:{0}\".format(elapsed_time) + \"[sec]\")"
   ]
  },
  {
   "cell_type": "code",
   "execution_count": 2,
   "metadata": {},
   "outputs": [
    {
     "data": {
      "image/png": "[encoded data removed]",
      "text/plain": [
       "<Figure size 432x288 with 1 Axes>"
      ]
     },
     "metadata": {},
     "output_type": "display_data"
    }
   ],
   "source": [
    "import matplotlib.pyplot as plt\n",
    "import matplotlib.patches as patches\n",
    "\n",
    "fig = plt.figure()\n",
    "ax = plt.axes()\n",
    "\n",
    "# fc = face color, ec = edge color\n",
    "c = patches.Circle(xy=(0, 0), radius=0.5, fc='g', ec='r')\n",
    "e = patches.Ellipse(xy=(-0.25, 0), width=0.5, height=0.25, fc='b', ec='y')\n",
    "r = patches.Rectangle(xy=(0, 0), width=0.25, height=0.5, ec='#000000', fill=False)\n",
    "ax.add_patch(c)\n",
    "ax.add_patch(e)\n",
    "ax.add_patch(r)\n",
    "\n",
    "plt.axis('scaled')\n",
    "ax.set_aspect('equal')\n",
    "\n",
    "plt.savefig('matplotlib_patches.png')"
   ]
  },
  {
   "cell_type": "code",
   "execution_count": 27,
   "metadata": {},
   "outputs": [
    {
     "data": {
      "image/png": "[encoded data removed]",
      "text/plain": [
       "<Figure size 432x288 with 1 Axes>"
      ]
     },
     "metadata": {},
     "output_type": "display_data"
    }
   ],
   "source": [
    "import matplotlib.pyplot as plt\n",
    "import matplotlib.patches as patches\n",
    "\n",
    "fig = plt.figure()  #新規のウィンドウを描画\n",
    "ax = plt.axes()     #内部の座標軸\n",
    "\n",
    "k1 = patches.Rectangle(xy=(3, 3), width=21, height=17, ec='g', fc='g')\n",
    "k2 = patches.Rectangle(xy=(3, 25), width=21, height=17, ec='g', fc='g')\n",
    "p11 = patches.Rectangle(xy=(16, 2), width=1, height=1, ec='y', fc='y')\n",
    "p12 = patches.Rectangle(xy=(16, 21), width=1, height=1, ec='y', fc='y')\n",
    "p21 = patches.Rectangle(xy=(16, 22), width=1, height=1, ec='y', fc='y')\n",
    "p22 = patches.Rectangle(xy=(9, 41), width=1, height=1, ec='y', fc='y')\n",
    "ax.add_patch(k1)\n",
    "ax.add_patch(k2)\n",
    "ax.add_patch(p11)\n",
    "ax.add_patch(p12)\n",
    "ax.add_patch(p21)\n",
    "ax.add_patch(p22)\n",
    "\n",
    "plt.axis('equal')\n",
    "ax.set_aspect('equal')\n",
    "\n",
    "plt.savefig('matplotlib_patches.png')"
   ]
  },
  {
   "cell_type": "code",
   "execution_count": 5,
   "metadata": {},
   "outputs": [
    {
     "data": {
      "image/png": "[encoded data removed]",
      "text/plain": [
       "<Figure size 432x288 with 1 Axes>"
      ]
     },
     "metadata": {},
     "output_type": "display_data"
    },
    {
     "data": {
      "image/png": "[encoded data removed]",
      "text/plain": [
       "<Figure size 432x288 with 1 Axes>"
      ]
     },
     "metadata": {},
     "output_type": "display_data"
    }
   ],
   "source": [
    "import math\n",
    "import numpy as np\n",
    "from matplotlib import pyplot\n",
    "\n",
    "pi = math.pi\n",
    "x = np.linspace(0, 2*pi, 100)\n",
    "y = np.sin(x)\n",
    "pyplot.plot(x, y)\n",
    "pyplot.show()\n",
    "pyplot.plot(x+10, y)\n",
    "pyplot.show()"
   ]
  },
  {
   "cell_type": "code",
   "execution_count": 6,
   "metadata": {},
   "outputs": [
    {
     "ename": "ModuleNotFoundError",
     "evalue": "No module named 'PIL'",
     "output_type": "error",
     "traceback": [
      "\u001b[1;31m---------------------------------------------------------------------------\u001b[0m",
      "\u001b[1;31mModuleNotFoundError\u001b[0m                       Traceback (most recent call last)",
      "\u001b[1;32m<ipython-input-6-eb1dd4e5db20>\u001b[0m in \u001b[0;36m<module>\u001b[1;34m()\u001b[0m\n\u001b[0;32m      1\u001b[0m \u001b[1;32mimport\u001b[0m \u001b[0mtkinter\u001b[0m \u001b[1;32mas\u001b[0m \u001b[0mtk\u001b[0m\u001b[1;33m\u001b[0m\u001b[0m\n\u001b[1;32m----> 2\u001b[1;33m \u001b[1;32mfrom\u001b[0m \u001b[0mPIL\u001b[0m \u001b[1;32mimport\u001b[0m \u001b[0mImage\u001b[0m\u001b[1;33m,\u001b[0m \u001b[0mImageTk\u001b[0m\u001b[1;33m\u001b[0m\u001b[0m\n\u001b[0m\u001b[0;32m      3\u001b[0m \u001b[1;33m\u001b[0m\u001b[0m\n\u001b[0;32m      4\u001b[0m \u001b[1;31m### ここにイベントが発生したときの処理 ###\u001b[0m\u001b[1;33m\u001b[0m\u001b[1;33m\u001b[0m\u001b[0m\n\u001b[0;32m      5\u001b[0m \u001b[0mpressed_x\u001b[0m \u001b[1;33m=\u001b[0m \u001b[0mpressed_y\u001b[0m \u001b[1;33m=\u001b[0m \u001b[1;36m0\u001b[0m\u001b[1;33m\u001b[0m\u001b[0m\n",
      "\u001b[1;31mModuleNotFoundError\u001b[0m: No module named 'PIL'"
     ]
    }
   ],
   "source": []
  },
  {
   "cell_type": "code",
   "execution_count": 7,
   "metadata": {},
   "outputs": [
    {
     "ename": "ModuleNotFoundError",
     "evalue": "No module named 'Tkinter'",
     "output_type": "error",
     "traceback": [
      "\u001b[1;31m---------------------------------------------------------------------------\u001b[0m",
      "\u001b[1;31mModuleNotFoundError\u001b[0m                       Traceback (most recent call last)",
      "\u001b[1;32m<ipython-input-7-9ec248fd6c66>\u001b[0m in \u001b[0;36m<module>\u001b[1;34m()\u001b[0m\n\u001b[1;32m----> 1\u001b[1;33m \u001b[1;32mimport\u001b[0m \u001b[0mTkinter\u001b[0m\u001b[1;33m\u001b[0m\u001b[0m\n\u001b[0m\u001b[0;32m      2\u001b[0m \u001b[1;33m\u001b[0m\u001b[0m\n\u001b[0;32m      3\u001b[0m \u001b[1;32mclass\u001b[0m \u001b[0mCanvasOval\u001b[0m\u001b[1;33m:\u001b[0m\u001b[1;33m\u001b[0m\u001b[0m\n\u001b[0;32m      4\u001b[0m     \u001b[0mcanvas\u001b[0m \u001b[1;33m=\u001b[0m \u001b[1;32mNone\u001b[0m\u001b[1;33m\u001b[0m\u001b[0m\n\u001b[0;32m      5\u001b[0m \u001b[1;33m\u001b[0m\u001b[0m\n",
      "\u001b[1;31mModuleNotFoundError\u001b[0m: No module named 'Tkinter'"
     ]
    }
   ],
   "source": []
  },
  {
   "cell_type": "code",
   "execution_count": 8,
   "metadata": {},
   "outputs": [
    {
     "name": "stdout",
     "output_type": "stream",
     "text": [
      "5.5965624122426565\n",
      "5\n"
     ]
    }
   ],
   "source": [
    "import numpy as np\n",
    "import numpy.random as rd\n",
    "import scipy.stats as st\n",
    "import matplotlib.pyplot as plt\n",
    "\n",
    "lam = 0.1   # 1分あたり0.1回発生する。\n",
    "x = rd.exponential(1./lam)\n",
    "print(x)\n",
    "print(int(x))"
   ]
  },
  {
   "cell_type": "code",
   "execution_count": null,
   "metadata": {},
   "outputs": [],
   "source": []
  },
  {
   "cell_type": "code",
   "execution_count": null,
   "metadata": {},
   "outputs": [],
   "source": []
  }
 ],
 "metadata": {
  "kernelspec": {
   "display_name": "Python 3",
   "language": "python",
   "name": "python3"
  },
  "language_info": {
   "codemirror_mode": {
    "name": "ipython",
    "version": 3
   },
   "file_extension": ".py",
   "mimetype": "text/x-python",
   "name": "python",
   "nbconvert_exporter": "python",
   "pygments_lexer": "ipython3",
   "version": "3.7.0"
  }
 },
 "nbformat": 4,
 "nbformat_minor": 2
}
