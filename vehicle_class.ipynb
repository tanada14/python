{
 "cells": [
  {
   "cell_type": "code",
   "execution_count": 4,
   "metadata": {},
   "outputs": [
    {
     "name": "stdout",
     "output_type": "stream",
     "text": [
      "1\n",
      ",\n",
      "1\n",
      "\n",
      "\n",
      "4\n",
      "1\n",
      ",\n",
      "1\n",
      "\n",
      "\n",
      "2\n",
      "4\n",
      ",\n",
      "2\n",
      "1\n",
      "\n",
      "\n",
      "5\n",
      "8\n",
      ",\n",
      "2\n",
      "1\n",
      "\n",
      "\n",
      "1\n",
      ",\n",
      "4\n",
      "1\n",
      "\n",
      "\n",
      "4\n",
      "1\n",
      ",\n",
      "4\n",
      "1\n",
      "\n",
      "\n",
      "2\n",
      "4\n",
      ",\n",
      "6\n",
      "1\n",
      "\n",
      "\n",
      "5\n",
      "8\n",
      ",\n",
      "6\n",
      "1\n"
     ]
    }
   ],
   "source": [
    "f = open('vehicle_position1.txt')\n",
    "vehicle_data = f.read()\n",
    "f.close()\n",
    "for line in vehicle_data:\n",
    "    print(line)"
   ]
  },
  {
   "cell_type": "code",
   "execution_count": 6,
   "metadata": {},
   "outputs": [
    {
     "name": "stdout",
     "output_type": "stream",
     "text": [
      "1\n",
      "41\n",
      "24\n",
      "58\n",
      "1\n",
      "41\n",
      "24\n",
      "58\n",
      "1\n",
      "1\n",
      "41\n",
      "1\n",
      "24\n",
      "21\n",
      "58\n",
      "21\n",
      "1\n",
      "41\n",
      "41\n",
      "41\n",
      "24\n",
      "61\n",
      "58\n",
      "6\n"
     ]
    }
   ],
   "source": [
    "x, y = [], []    \n",
    "for l in open('vehicle_position1.txt').readlines():\n",
    "    data = l[:-1].split(' ')\n",
    "    print(int(data[0]))\n",
    "    x += [int(data[0])]\n",
    "    y += [int(data[1])]\n",
    "\n",
    "for count in range(8):\n",
    "    print(x[count])\n",
    "    print(y[count])\n",
    "    "
   ]
  },
  {
   "cell_type": "code",
   "execution_count": 3,
   "metadata": {},
   "outputs": [
    {
     "ename": "SyntaxError",
     "evalue": "invalid syntax (<ipython-input-3-289b19178d72>, line 23)",
     "output_type": "error",
     "traceback": [
      "\u001b[1;36m  File \u001b[1;32m\"<ipython-input-3-289b19178d72>\"\u001b[1;36m, line \u001b[1;32m23\u001b[0m\n\u001b[1;33m    vehicle.append(obj)\u001b[0m\n\u001b[1;37m          ^\u001b[0m\n\u001b[1;31mSyntaxError\u001b[0m\u001b[1;31m:\u001b[0m invalid syntax\n"
     ]
    }
   ],
   "source": [
    "#搬送車のクラス\n",
    "class Vehicle:\n",
    "    speed = 1\n",
    "    \n",
    "    def __init__(self, x, y, goal, direction, state):\n",
    "        self.x = x                 #位置\n",
    "        self.y = y   \n",
    "        self.goal = goal           #移動予定場所\n",
    "        self.direction = direction #移動方向\n",
    "        self.state = state         #状態\n",
    "\n",
    "vehicle = []         #搬送車を格納\n",
    "vehicle_n = -1       #搬送車識別番号をカウント\n",
    "\n",
    "print(type(map))\n",
    "print(type(vehicle))\n",
    "        \n",
    "#搬送車の作成\n",
    "for l in open('vehicle_position1.txt').readlines():\n",
    "    data = l[:-1].split(' ')\n",
    "    vehicle_n = vehicle_n+1\n",
    "    obj = Vehicle(int(data[0], int(data[1], -1, -1, 'stop', vehicle_n)\n",
    "    vehicle.append(obj)\n",
    "    "
   ]
  },
  {
   "cell_type": "code",
   "execution_count": 6,
   "metadata": {},
   "outputs": [
    {
     "name": "stdout",
     "output_type": "stream",
     "text": [
      "1 16 3 16 20\n",
      "2 34 3 34 20\n",
      "3 51 3 51 20\n",
      "4 16 23 9 40\n",
      "5 34 23 34 40\n",
      "6 51 23 51 40\n",
      "7 9 43 9 60\n",
      "8 51 43 26 4\n"
     ]
    }
   ],
   "source": [
    "#搬送地点のクラス\n",
    "class Point:\n",
    "     \n",
    "        def __init__(self, num, in_x, in_y, out_x, out_y):\n",
    "            self.num = num\n",
    "            self.in_x = in_x\n",
    "            self.in_y = in_y\n",
    "            self.out_x = out_x\n",
    "            self.out_y = out_y\n",
    "            \n",
    "point = []\n",
    "count = 0\n",
    "\n",
    "for l in open('point1.txt').readlines():\n",
    "    data = l[:-1].split(' ')\n",
    "    count = count+1\n",
    "    in_x = int(data[0])\n",
    "    in_y = int(data[1])\n",
    "    out_x = int(data[2])\n",
    "    out_y = int(data[3])\n",
    "    obj = Point(count, in_x, in_y, out_x, out_y)\n",
    "    point.append(obj)\n",
    "\n",
    "for count in range(8):\n",
    "    print(point[count].num, point[count].in_x, point[count].in_y, point[count].out_x, point[count].out_y)"
   ]
  },
  {
   "cell_type": "code",
   "execution_count": 1,
   "metadata": {},
   "outputs": [
    {
     "name": "stdout",
     "output_type": "stream",
     "text": [
      "0\n",
      "1\n",
      "2\n",
      "3\n",
      "4\n"
     ]
    }
   ],
   "source": [
    "#FIFOプログラム\n",
    "# 必要なライブラリのインポート\n",
    "import queue\n",
    "\n",
    "# FIFOキューの作成\n",
    "q = queue.Queue()\n",
    "\n",
    "# キューにデータを挿入する。挿入するデータは「0, 1, 2, 3, 4」\n",
    "for i in range(5):\n",
    "    q.put(i)\n",
    "\n",
    "# キューからデータがなくなるまで取り出しを行う\n",
    "while not q.empty():\n",
    "    print(q.get())"
   ]
  },
  {
   "cell_type": "code",
   "execution_count": 16,
   "metadata": {},
   "outputs": [
    {
     "name": "stdout",
     "output_type": "stream",
     "text": [
      "0\n",
      "0\n",
      "1\n",
      "1\n",
      "2\n",
      "2\n"
     ]
    }
   ],
   "source": [
    "#他の搬送車を持つ\n",
    "class Vehicle:\n",
    "    vehicle_x = []\n",
    "    vehicle_y = []\n",
    "    \n",
    "    def get_point(self):\n",
    "        for count in range(vehicle_sum):\n",
    "            self.vehicle_x.append(count)\n",
    "            self.vehicle_y.append(count)\n",
    "    \n",
    "vehicle_sum = 3\n",
    "vehicle1 = Vehicle()\n",
    "vehicle1.get_point()\n",
    "count = 0\n",
    "for count in range(vehicle_sum):\n",
    "    print(vehicle1.vehicle_x[count])\n",
    "    print(vehicle1.vehicle_y[count])"
   ]
  },
  {
   "cell_type": "code",
   "execution_count": 14,
   "metadata": {},
   "outputs": [
    {
     "name": "stdout",
     "output_type": "stream",
     "text": [
      "ok\n"
     ]
    }
   ],
   "source": [
    "class Vehicle:\n",
    "    def get_point(self):\n",
    "        print('ok')\n",
    "        \n",
    "vehicle1 = Vehicle()\n",
    "vehicle1.get_point()"
   ]
  },
  {
   "cell_type": "code",
   "execution_count": null,
   "metadata": {},
   "outputs": [],
   "source": [
    "#ポテンシャル関数の計算を行う関数\n",
    "import math\n",
    "\n",
    "def potential(x1, y1, x2, y2, type):\n",
    "    if(type == 1):\n",
    "        return 1/math.sqrt((x1-x2)**2 + (y1-y2)**2)\n",
    "    elif(type == 2):\n",
    "        return -2/math.sqrt((x1-x2)**2 + (y1-y2)**2)\n",
    "    elif(type == 3):\n",
    "        return -0.5/math.sqrt((x1-x2)**2 + (y1-y2)**2)"
   ]
  },
  {
   "cell_type": "code",
   "execution_count": 2,
   "metadata": {},
   "outputs": [
    {
     "name": "stdout",
     "output_type": "stream",
     "text": [
      "aaa\n",
      "aaa\n",
      "aaa\n",
      "aaa\n"
     ]
    }
   ],
   "source": [
    "#ポテンシャル場の生成\n",
    "def make_potential(self):\n",
    "    for count in range(map_side + map_length):\n",
    "        if(mapping[count].celltype == 'wall'):\n",
    "            self.static_potential.append(-16)\n",
    "            self.dynamic_potential.append(-16)\n",
    "        elif(mapping[count].celltype == 'no_entry'):\n",
    "            self.static_potential.append(-16)\n",
    "            self.dynamic_potential.append(-16)\n",
    "        elif(mapping[count].celltype == 'accept'):\n",
    "            self.static_potential.append(-16)\n",
    "            self.dynamic_potential.append(-16)\n",
    "        elif(mapping[count].celltype == 'road'):\n",
    "            self.static_potential.append(0)\n",
    "            self.dynamic_potential.append(0)\n",
    "        \n",
    "map_side = 2\n",
    "map_length = 2\n",
    "make_potential()"
   ]
  },
  {
   "cell_type": "code",
   "execution_count": null,
   "metadata": {},
   "outputs": [],
   "source": [
    "#静的なポテンシャル場の更新\n",
    "def change_s_potential(self, x1, y1):\n",
    "    for i in range(map_length):\n",
    "        for j in range(map_side):\n",
    "            static2_potential[i+j] = static_potential[i+j] + potential(j, i, x1, y1, 1)"
   ]
  }
 ],
 "metadata": {
  "kernelspec": {
   "display_name": "Python 3",
   "language": "python",
   "name": "python3"
  },
  "language_info": {
   "codemirror_mode": {
    "name": "ipython",
    "version": 3
   },
   "file_extension": ".py",
   "mimetype": "text/x-python",
   "name": "python",
   "nbconvert_exporter": "python",
   "pygments_lexer": "ipython3",
   "version": "3.7.0"
  }
 },
 "nbformat": 4,
 "nbformat_minor": 2
}
