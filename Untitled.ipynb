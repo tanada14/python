{
 "cells": [
  {
   "cell_type": "code",
   "execution_count": null,
   "metadata": {},
   "outputs": [],
   "source": [
    "#!/usr/bin/python\n",
    "### -*- coding: utf-8 -*-\n",
    "###\n",
    "### 構造体のようなクラスの使用例\n",
    "###\n",
    "\n",
    "from __future__ import print_function\n",
    "import re, logging, sys\n",
    "\n",
    "logging.basicConfig(level=logging.ERROR)\n",
    "logger = logging.getLogger(\"ESE_struct\")\n",
    "logger.setLevel(logging.DEBUG)\n",
    "\n",
    "\n",
    "class ESE_struct:\n",
    "    '''v1, v2, v3 というメンバを持つ\n",
    "'''\n",
    "    \n",
    "    def __init__(self, v1=None, v2=None, v3=None, line=None):\n",
    "        '''メンバの値を設定する\n",
    "'''\n",
    "        if line is None:\n",
    "            assert v1 is not None and v2 is not None and v3 is not None, \"invalid arguments={}\".format( (v1, v2, v3) )\n",
    "        else:\n",
    "            ## スペースで区切られた3つの要素 (整数 整数 文字列) からメンバの値を設定する\n",
    "            m = re.match(\"^(\\d+)\\s+(\\d+)\\s+(\\w+).*$\", line)\n",
    "            assert m is not None, \"invalid line={}\".format(line)\n",
    "            v1, v2, v3 = m.groups()\n",
    "            \n",
    "        self.v1 = v1\n",
    "        self.v2 = v2\n",
    "        self.v3 = v3\n",
    "\n",
    "    def __str__(self):\n",
    "        '''str() 関数の引数として与えられた場合に返される文字列\n",
    "'''\n",
    "        retval = \"v1={0} v2={1} v3={2}\".format(self.v1, self.v2, self.v3)\n",
    "        return retval\n",
    "\n",
    "if __name__ == \"__main__\":\n",
    "    cont = True\n",
    "    vec = [ ]\n",
    "    l = None\n",
    "    try:\n",
    "        #l = sys.stdin.readline().strip()\n",
    "        l = 'aa'\n",
    "        if l:\n",
    "            obj = ESE_struct(line=l)\n",
    "            print (\"line={0} is parsed as:{1}\".format(l, obj))                print (\"v1={v1} v2={v2} v3={v3}\".format(v1=obj.v1, v2=obj.v2, v3=obj.v3))\n",
    "                vec.append(obj)\n",
    "        else:\n",
    "            print (\"finished\")\n",
    "            cont = False\n",
    "    except AssertionError as e:\n",
    "        print (\"line={0} was not parsed\".format(l))\n",
    "        import traceback\n",
    "        print (\"tracebacks follow\")\n",
    "        traceback.print_exc()\n",
    "\n",
    "    ## v1 の昇順にソート\n",
    "    vec.sort(key=lambda ese: ese.v1)\n",
    "    for v in vec:\n",
    "        print (v)"
   ]
  },
  {
   "cell_type": "code",
   "execution_count": null,
   "metadata": {},
   "outputs": [],
   "source": [
    "%run -i kouzoutai.py"
   ]
  },
  {
   "cell_type": "code",
   "execution_count": 33,
   "metadata": {},
   "outputs": [
    {
     "name": "stdout",
     "output_type": "stream",
     "text": [
      "finished\n"
     ]
    },
    {
     "data": {
      "text/plain": [
       "'abc abc abc'"
      ]
     },
     "execution_count": 33,
     "metadata": {},
     "output_type": "execute_result"
    }
   ],
   "source": [
    "%run -i kouzoutai.py \n",
    "'abc abc abc'\n"
   ]
  },
  {
   "cell_type": "code",
   "execution_count": 24,
   "metadata": {},
   "outputs": [
    {
     "name": "stdout",
     "output_type": "stream",
     "text": [
      "finished\n"
     ]
    }
   ],
   "source": [
    "%run -i kouzoutai.py -untitled.txt"
   ]
  },
  {
   "cell_type": "code",
   "execution_count": 32,
   "metadata": {},
   "outputs": [
    {
     "name": "stdout",
     "output_type": "stream",
     "text": [
      "\n"
     ]
    },
    {
     "data": {
      "text/plain": [
       "'hey'"
      ]
     },
     "execution_count": 32,
     "metadata": {},
     "output_type": "execute_result"
    }
   ],
   "source": [
    "print(sys.stdin.readline())\n",
    "'hey'"
   ]
  },
  {
   "cell_type": "code",
   "execution_count": 28,
   "metadata": {},
   "outputs": [
    {
     "ename": "NameError",
     "evalue": "name 'hey' is not defined",
     "output_type": "error",
     "traceback": [
      "\u001b[1;31m---------------------------------------------------------------------------\u001b[0m",
      "\u001b[1;31mNameError\u001b[0m                                 Traceback (most recent call last)",
      "\u001b[1;32mH:\\windows\\Desktop\\python\\kouzoutai.py\u001b[0m in \u001b[0;36m<module>\u001b[1;34m()\u001b[0m\n\u001b[1;32m----> 1\u001b[1;33m \u001b[0mhey\u001b[0m\u001b[1;33m\u001b[0m\u001b[0m\n\u001b[0m",
      "\u001b[1;31mNameError\u001b[0m: name 'hey' is not defined"
     ]
    }
   ],
   "source": [
    "hey"
   ]
  },
  {
   "cell_type": "code",
   "execution_count": 34,
   "metadata": {
    "scrolled": true
   },
   "outputs": [
    {
     "name": "stdout",
     "output_type": "stream",
     "text": [
      "finished\n"
     ]
    },
    {
     "data": {
      "text/plain": [
       "'bbb'"
      ]
     },
     "execution_count": 34,
     "metadata": {},
     "output_type": "execute_result"
    }
   ],
   "source": [
    "%run -i kouzoutai.py \n",
    "'abc abc abc'\n",
    "'aaa'\n",
    "'bbb'"
   ]
  },
  {
   "cell_type": "code",
   "execution_count": null,
   "metadata": {},
   "outputs": [],
   "source": [
    "'aaa'"
   ]
  },
  {
   "cell_type": "code",
   "execution_count": null,
   "metadata": {},
   "outputs": [],
   "source": [
    "%run -i kouzoutai.py"
   ]
  },
  {
   "cell_type": "code",
   "execution_count": null,
   "metadata": {},
   "outputs": [],
   "source": [
    "from __future__ import print_function\n",
    "import re, logging, sys\n",
    "\n",
    "logging.basicConfig(level=logging.ERROR)\n",
    "logger = logging.getLogger(\"ESE_struct\")\n",
    "logger.setLevel(logging.DEBUG)\n",
    "\n",
    "\n",
    "class ESE_struct:\n",
    "    '''v1, v2, v3 というメンバを持つ\n",
    "'''\n",
    "    \n",
    "    def __init__(self, v1=None, v2=None, v3=None, line=None):\n",
    "        '''メンバの値を設定する\n",
    "'''\n",
    "        if line is None:\n",
    "            assert v1 is not None and v2 is not None and v3 is not None, \"invalid arguments={}\".format( (v1, v2, v3) )\n",
    "        else:\n",
    "            ## スペースで区切られた3つの要素 (整数 整数 文字列) からメンバの値を設定する\n",
    "            m = re.match(\"^(\\d+)\\s+(\\d+)\\s+(\\w+).*$\", line)\n",
    "            assert m is not None, \"invalid line={}\".format(line)\n",
    "            v1, v2, v3 = m.groups()\n",
    "            \n",
    "        self.v1 = v1\n",
    "        self.v2 = v2\n",
    "        self.v3 = v3\n",
    "\n",
    "    def __str__(self):\n",
    "        '''str() 関数の引数として与えられた場合に返される文字列\n",
    "'''\n",
    "        retval = \"v1={0} v2={1} v3={2}\".format(self.v1, self.v2, self.v3)\n",
    "        return retval\n",
    "    \n",
    "l = 1 2 aaa\n",
    "obj = ESE_struct(line = l)\n",
    "print(obj.v1)\n",
    "print(obj.v2)\n",
    "print(obj.v3)\n"
   ]
  },
  {
   "cell_type": "code",
   "execution_count": 7,
   "metadata": {},
   "outputs": [
    {
     "name": "stdout",
     "output_type": "stream",
     "text": [
      "4\n",
      "1\n",
      "1\n",
      "22\n"
     ]
    }
   ],
   "source": [
    "class Sample1():\n",
    "    \n",
    "    def __init__(self, a, b, c):\n",
    "        self.a = a\n",
    "        self.b = b\n",
    "        self.c = c\n",
    "        \n",
    "class Sample2():\n",
    "    \n",
    "    def __init__(self, d, e, f):\n",
    "        self.d = d\n",
    "        self.e = e\n",
    "        self.f = f\n",
    "        \n",
    "    def test(self):\n",
    "        print(self.d)\n",
    "        print(example1.a)\n",
    "        example1.a = 22\n",
    "        print(vehicle_n)\n",
    "\n",
    "vehicle_n = 1\n",
    "example1 = Sample1(1, 2, 3)\n",
    "example2 = Sample2(4, 5, 6)\n",
    "example2.test()\n",
    "print(example1.a)"
   ]
  },
  {
   "cell_type": "code",
   "execution_count": null,
   "metadata": {},
   "outputs": [],
   "source": []
  }
 ],
 "metadata": {
  "kernelspec": {
   "display_name": "Python 3",
   "language": "python",
   "name": "python3"
  },
  "language_info": {
   "codemirror_mode": {
    "name": "ipython",
    "version": 3
   },
   "file_extension": ".py",
   "mimetype": "text/x-python",
   "name": "python",
   "nbconvert_exporter": "python",
   "pygments_lexer": "ipython3",
   "version": "3.7.0"
  }
 },
 "nbformat": 4,
 "nbformat_minor": 2
}
