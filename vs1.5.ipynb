{
 "cells": [
  {
   "cell_type": "code",
   "execution_count": 6,
   "metadata": {},
   "outputs": [
    {
     "name": "stdout",
     "output_type": "stream",
     "text": [
      "0.01540994644165039\n"
     ]
    }
   ],
   "source": [
    "#配列に格納する場合\n",
    "import time\n",
    "t1 = time.time()\n",
    "path = 'test.txt'\n",
    "\n",
    "f = open(path, mode='w')\n",
    "list_ = []\n",
    "\n",
    "for count in range(5000):\n",
    "    list_.append(str(count))\n",
    "    if((count%100) == 0):\n",
    "        str_ = ' '.join(list_)+'\\n'\n",
    "        f.write(str_)\n",
    "        list_.clear()\n",
    "\n",
    "f.close()\n",
    "\n",
    "t2 = time.time()\n",
    "print(t2-t1)"
   ]
  },
  {
   "cell_type": "code",
   "execution_count": null,
   "metadata": {},
   "outputs": [],
   "source": []
  },
  {
   "cell_type": "code",
   "execution_count": null,
   "metadata": {},
   "outputs": [],
   "source": []
  }
 ],
 "metadata": {
  "kernelspec": {
   "display_name": "Python 3",
   "language": "python",
   "name": "python3"
  },
  "language_info": {
   "codemirror_mode": {
    "name": "ipython",
    "version": 3
   },
   "file_extension": ".py",
   "mimetype": "text/x-python",
   "name": "python",
   "nbconvert_exporter": "python",
   "pygments_lexer": "ipython3",
   "version": "3.7.0"
  }
 },
 "nbformat": 4,
 "nbformat_minor": 2
}
