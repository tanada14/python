{
 "cells": [
  {
   "cell_type": "code",
   "execution_count": 15,
   "metadata": {},
   "outputs": [
    {
     "name": "stdout",
     "output_type": "stream",
     "text": [
      "carrier_sum 10\n",
      "20 0 3 \n",
      "82 2 5 \n",
      "84 4 3 \n",
      "85 3 0 \n",
      "93 2 4 \n",
      "94 5 2 \n",
      "95 2 3 \n",
      "96 0 5 \n",
      "97 2 1 \n",
      "98 2 3 \n"
     ]
    }
   ],
   "source": [
    "%run -i make_carrier.py"
   ]
  },
  {
   "cell_type": "code",
   "execution_count": 18,
   "metadata": {},
   "outputs": [
    {
     "name": "stdout",
     "output_type": "stream",
     "text": [
      "time 20\n",
      "割り当てた搬送車\n",
      "24.20743687382041 0\n",
      "time 51\n",
      "搬送物受け取り地点に到達しました\n",
      "搬送車識別番号 現在地 0 16 21\n",
      "time 69\n",
      "搬送物受け取り地点に到達しました\n",
      "搬送車識別番号 現在地 0 34 22\n",
      "time 82\n",
      "割り当てた搬送車\n",
      "8.0 2\n",
      "time 84\n",
      "割り当てた搬送車\n",
      "33.0 3\n",
      "time 85\n",
      "割り当てた搬送車\n",
      "21.540659228538015 1\n",
      "time 89\n",
      "搬送物受け取り地点に到達しました\n",
      "搬送車識別番号 現在地 2 9 41\n",
      "time 93\n",
      "割り当てた搬送車\n",
      "38.07886552931954 0\n",
      "time 110\n",
      "搬送物受け取り地点に到達しました\n",
      "搬送車識別番号 現在地 1 34 41\n",
      "time 116\n",
      "搬送物受け取り地点に到達しました\n",
      "搬送車識別番号 現在地 3 9 61\n",
      "time 153\n",
      "搬送物受け取り地点に到達しました\n",
      "搬送車識別番号 現在地 0 9 41\n",
      "time 154\n",
      "搬送物受け取り地点に到達しました\n",
      "搬送車識別番号 現在地 0 9 42\n",
      "time 155\n",
      "割り当てた搬送車\n",
      "1.0 0\n",
      "time 155\n",
      "搬送物受け取り地点に到達しました\n",
      "搬送車識別番号 現在地 0 9 41\n",
      "time 189\n",
      "搬送物受け取り地点に到達しました\n",
      "搬送車識別番号 現在地 3 34 22\n",
      "time 190\n",
      "割り当てた搬送車\n",
      "31.400636936215164 3\n",
      "time 190\n",
      "搬送物受け取り地点に到達しました\n",
      "搬送車識別番号 現在地 1 16 2\n",
      "time 191\n",
      "割り当てた搬送車\n",
      "19.0 1\n",
      "time 219\n",
      "搬送物受け取り地点に到達しました\n",
      "搬送車識別番号 現在地 0 34 22\n",
      "time 220\n",
      "割り当てた搬送車\n",
      "31.400636936215164 0\n",
      "time 246\n",
      "搬送物受け取り地点に到達しました\n",
      "搬送車識別番号 現在地 1 16 21\n",
      "time 287\n",
      "搬送物受け取り地点に到達しました\n",
      "搬送車識別番号 現在地 0 9 41\n",
      "time 351\n",
      "搬送物受け取り地点に到達しました\n",
      "搬送車識別番号 現在地 3 9 41\n",
      "time 417\n",
      "搬送物受け取り地点に到達しました\n",
      "搬送車識別番号 現在地 0 34 2\n",
      "time 418\n",
      "割り当てた搬送車\n",
      "59.0 0\n",
      "time 444\n",
      "搬送物受け取り地点に到達しました\n",
      "搬送車識別番号 現在地 3 34 22\n",
      "time 531\n",
      "搬送物受け取り地点に到達しました\n",
      "搬送車識別番号 現在地 0 34 61\n",
      "time 604\n",
      "搬送車待機場所に到着しました\n",
      "搬送車識別番号 現在地 3 42 61\n",
      "time 611\n",
      "搬送物受け取り地点に到達しました\n",
      "搬送車識別番号 現在地 0 16 22\n",
      "time 643\n",
      "搬送車待機場所に到着しました\n",
      "搬送車識別番号 現在地 0 1 2\n",
      "time 901\n",
      "衝突しました\n",
      "搬送車番号 2 3\n",
      "衝突座標 42 61\n",
      "time 904\n",
      "衝突しました\n",
      "搬送車番号 2 3\n",
      "衝突座標 42 61\n",
      "time 1321\n",
      "衝突しました\n",
      "搬送車番号 2 3\n",
      "衝突座標 42 61\n",
      "time 1324\n",
      "衝突しました\n",
      "搬送車番号 2 3\n",
      "衝突座標 42 61\n",
      "time 1741\n",
      "衝突しました\n",
      "搬送車番号 2 3\n",
      "衝突座標 42 61\n",
      "time 1744\n",
      "衝突しました\n",
      "搬送車番号 2 3\n",
      "衝突座標 42 61\n",
      "搬送車が移動中に終了しました\n",
      "1 42 22 move\n",
      "搬送車が移動中に終了しました\n",
      "2 42 34 move\n",
      "終了時刻 611\n",
      "走行時間の総和 4763\n",
      "最終走行完了時間 591\n"
     ]
    }
   ],
   "source": [
    "%run -i vehicle_simulation4-1.py"
   ]
  },
  {
   "cell_type": "code",
   "execution_count": 1,
   "metadata": {},
   "outputs": [
    {
     "name": "stderr",
     "output_type": "stream",
     "text": [
      "\\\\dc\\common\\python3\\3.7\\lib\\site-packages\\ipykernel\\parentpoller.py:116: UserWarning: Parent poll failed.  If the frontend dies,\n",
      "                the kernel may be left running.  Please let us know\n",
      "                about your system (bitness, Python, etc.) at\n",
      "                ipython-dev@scipy.org\n",
      "  ipython-dev@scipy.org\"\"\")\n"
     ]
    },
    {
     "ename": "ModuleNotFoundError",
     "evalue": "No module named 'PIL'",
     "output_type": "error",
     "traceback": [
      "\u001b[1;31m---------------------------------------------------------------------------\u001b[0m",
      "\u001b[1;31mModuleNotFoundError\u001b[0m                       Traceback (most recent call last)",
      "\u001b[1;32m<ipython-input-1-f1b9d620ce1e>\u001b[0m in \u001b[0;36m<module>\u001b[1;34m()\u001b[0m\n\u001b[1;32m----> 1\u001b[1;33m \u001b[1;32mfrom\u001b[0m \u001b[0mPIL\u001b[0m \u001b[1;32mimport\u001b[0m \u001b[0mImage\u001b[0m\u001b[1;33m,\u001b[0m \u001b[0mImageDraw\u001b[0m\u001b[1;33m,\u001b[0m \u001b[0mImageFont\u001b[0m\u001b[1;33m\u001b[0m\u001b[0m\n\u001b[0m\u001b[0;32m      2\u001b[0m \u001b[1;33m\u001b[0m\u001b[0m\n\u001b[0;32m      3\u001b[0m \u001b[0mim\u001b[0m \u001b[1;33m=\u001b[0m \u001b[0mImage\u001b[0m\u001b[1;33m.\u001b[0m\u001b[0mnew\u001b[0m\u001b[1;33m(\u001b[0m\u001b[1;34m\"RGB\"\u001b[0m\u001b[1;33m,\u001b[0m \u001b[1;33m(\u001b[0m\u001b[1;36m512\u001b[0m\u001b[1;33m,\u001b[0m \u001b[1;36m512\u001b[0m\u001b[1;33m)\u001b[0m\u001b[1;33m,\u001b[0m \u001b[1;33m(\u001b[0m\u001b[1;36m128\u001b[0m\u001b[1;33m,\u001b[0m \u001b[1;36m128\u001b[0m\u001b[1;33m,\u001b[0m \u001b[1;36m128\u001b[0m\u001b[1;33m)\u001b[0m\u001b[1;33m)\u001b[0m\u001b[1;33m\u001b[0m\u001b[0m\n",
      "\u001b[1;31mModuleNotFoundError\u001b[0m: No module named 'PIL'"
     ]
    }
   ],
   "source": [
    "from PIL import Image, ImageDraw, ImageFont\n",
    "\n",
    "im = Image.new(\"RGB\", (512, 512), (128, 128, 128))"
   ]
  },
  {
   "cell_type": "code",
   "execution_count": 5,
   "metadata": {},
   "outputs": [
    {
     "data": {
      "text/plain": [
       "(array([  6.,  34.,  80., 198., 259., 236., 134.,  38.,  14.,   1.]),\n",
       " array([-3.07629552, -2.41517762, -1.75405973, -1.09294183, -0.43182394,\n",
       "         0.22929396,  0.89041185,  1.55152975,  2.21264764,  2.87376553,\n",
       "         3.53488343]),\n",
       " <a list of 10 Patch objects>)"
      ]
     },
     "execution_count": 5,
     "metadata": {},
     "output_type": "execute_result"
    },
    {
     "data": {
      "image/png": "[encoded data removed]",
      "text/plain": [
       "<Figure size 432x288 with 1 Axes>"
      ]
     },
     "metadata": {},
     "output_type": "display_data"
    }
   ],
   "source": [
    "#matplotlib 理解\n",
    "import numpy as np\n",
    "import matplotlib.pyplot as plt\n",
    "plt.hist(np.random.randn(1000))"
   ]
  },
  {
   "cell_type": "code",
   "execution_count": null,
   "metadata": {},
   "outputs": [],
   "source": []
  }
 ],
 "metadata": {
  "kernelspec": {
   "display_name": "Python 3",
   "language": "python",
   "name": "python3"
  },
  "language_info": {
   "codemirror_mode": {
    "name": "ipython",
    "version": 3
   },
   "file_extension": ".py",
   "mimetype": "text/x-python",
   "name": "python",
   "nbconvert_exporter": "python",
   "pygments_lexer": "ipython3",
   "version": "3.7.0"
  }
 },
 "nbformat": 4,
 "nbformat_minor": 2
}
